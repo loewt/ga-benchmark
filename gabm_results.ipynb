{
 "cells": [
  {
   "cell_type": "markdown",
   "metadata": {},
   "source": [
    "# The Visualization Notebook for the `ga-benchmark`"
   ]
  },
  {
   "cell_type": "markdown",
   "metadata": {},
   "source": [
    "This notebook presents the performance of Geometric Algebra libraries, library generators, and code optimizers included in the `ga-benchmark`. Basically, It reads data from the `.json` files produced by the `ga-benchmark` and provides pleasant tables and charts for comparing the solutions.\n",
    "\n",
    "You need to run the entire notebook to see the results. We suggest reading the instructions contained in each text cell for a better understanding of the data."
   ]
  },
  {
   "cell_type": "markdown",
   "metadata": {},
   "source": [
    "## Inicialization"
   ]
  },
  {
   "cell_type": "markdown",
   "metadata": {},
   "source": [
    "Let's import some modules."
   ]
  },
  {
   "cell_type": "code",
   "execution_count": 7,
   "metadata": {
    "scrolled": true
   },
   "outputs": [],
   "source": [
    "import ipywidgets as widgets\n",
    "from os import path, getcwd\n",
    "from IPython.display import display"
   ]
  },
  {
   "cell_type": "markdown",
   "metadata": {},
   "source": [
    "The `gabm` module defines the functions to read and display results produced by the `ga-benchmark` tool."
   ]
  },
  {
   "cell_type": "code",
   "execution_count": 8,
   "metadata": {
    "scrolled": true
   },
   "outputs": [],
   "source": [
    "import sys\n",
    "sys.path.append(path.abspath(getcwd()))  # Assuming that the working directory includes the 'gabm.py' file.\n",
    "\n",
    "from gabm import *"
   ]
  },
  {
   "cell_type": "markdown",
   "metadata": {},
   "source": [
    "Now, let's read the content of the `.json` files produced by the `ga-benchmark`. Set the `input_path` variable to change the directory path including the `.json` files. The `data` variable stores all data available"
   ]
  },
  {
   "cell_type": "code",
   "execution_count": 9,
   "metadata": {
    "scrolled": true
   },
   "outputs": [
    {
     "name": "stderr",
     "output_type": "stream",
     "text": [
      "Reading JSON files:   6%|███████▎                                                                                                            | 5/79 [00:00<00:00, 9391.63it/s]"
     ]
    },
    {
     "name": "stdout",
     "output_type": "stream",
     "text": [
      "Grade\n",
      "{'SystemName ': ' Linux ', ' SystemVersion ': ' 6.2.0-2-rt3-MANJARO ', ' CompilerID ': ' GNU ', ' CompilerVersion ': ' 13.1.1 ', ' Solution ': ' GATL ', ' Model ': ' 0x01 ', ' D ': 3, ' Grade ': 0, 'iterations': 10, 'repeats': 1}\n"
     ]
    },
    {
     "name": "stderr",
     "output_type": "stream",
     "text": [
      "\n"
     ]
    },
    {
     "ename": "KeyError",
     "evalue": "'Grade'",
     "output_type": "error",
     "traceback": [
      "\u001b[0;31m---------------------------------------------------------------------------\u001b[0m",
      "\u001b[0;31mKeyError\u001b[0m                                  Traceback (most recent call last)",
      "Cell \u001b[0;32mIn[9], line 2\u001b[0m\n\u001b[1;32m      1\u001b[0m input_path \u001b[38;5;241m=\u001b[39m path\u001b[38;5;241m.\u001b[39mjoin(path\u001b[38;5;241m.\u001b[39mabspath(getcwd()), \u001b[38;5;124m'\u001b[39m\u001b[38;5;124mbuild\u001b[39m\u001b[38;5;124m'\u001b[39m)  \u001b[38;5;66;03m# Assuming that the working directory is '<path-to>/ga-benchmark' and input data is in '<path-to>/ga-benchmark/build' folder.\u001b[39;00m\n\u001b[0;32m----> 2\u001b[0m data \u001b[38;5;241m=\u001b[39m \u001b[43mread_data\u001b[49m\u001b[43m(\u001b[49m\u001b[43mfolder\u001b[49m\u001b[38;5;241;43m=\u001b[39;49m\u001b[43minput_path\u001b[49m\u001b[43m,\u001b[49m\u001b[43m \u001b[49m\u001b[43mverbose\u001b[49m\u001b[38;5;241;43m=\u001b[39;49m\u001b[38;5;28;43;01mFalse\u001b[39;49;00m\u001b[43m)\u001b[49m\n",
      "File \u001b[0;32m~/coding/ga-benchmark/gabm.py:821\u001b[0m, in \u001b[0;36mread_data\u001b[0;34m(folder, verbose)\u001b[0m\n\u001b[1;32m    819\u001b[0m     \u001b[38;5;28mprint\u001b[39m(argument_key)\n\u001b[1;32m    820\u001b[0m \u001b[38;5;28mprint\u001b[39m(args)\n\u001b[0;32m--> 821\u001b[0m case_key \u001b[38;5;241m=\u001b[39m \u001b[38;5;28mtuple\u001b[39m(args[argument_key] \u001b[38;5;28;01mfor\u001b[39;00m argument_key \u001b[38;5;129;01min\u001b[39;00m \u001b[38;5;28msorted\u001b[39m(OPERATIONS[group_key][\u001b[38;5;124m'\u001b[39m\u001b[38;5;124marguments\u001b[39m\u001b[38;5;124m'\u001b[39m]\u001b[38;5;241m.\u001b[39mkeys()))\n\u001b[1;32m    822\u001b[0m \u001b[38;5;28;01mif\u001b[39;00m bm\u001b[38;5;241m.\u001b[39mget(\u001b[38;5;124m'\u001b[39m\u001b[38;5;124merror_occurred\u001b[39m\u001b[38;5;124m'\u001b[39m, \u001b[38;5;28;01mFalse\u001b[39;00m):\n\u001b[1;32m    823\u001b[0m     error_message \u001b[38;5;241m=\u001b[39m bm[\u001b[38;5;124m'\u001b[39m\u001b[38;5;124merror_message\u001b[39m\u001b[38;5;124m'\u001b[39m]\n",
      "File \u001b[0;32m~/coding/ga-benchmark/gabm.py:821\u001b[0m, in \u001b[0;36m<genexpr>\u001b[0;34m(.0)\u001b[0m\n\u001b[1;32m    819\u001b[0m     \u001b[38;5;28mprint\u001b[39m(argument_key)\n\u001b[1;32m    820\u001b[0m \u001b[38;5;28mprint\u001b[39m(args)\n\u001b[0;32m--> 821\u001b[0m case_key \u001b[38;5;241m=\u001b[39m \u001b[38;5;28mtuple\u001b[39m(\u001b[43margs\u001b[49m\u001b[43m[\u001b[49m\u001b[43margument_key\u001b[49m\u001b[43m]\u001b[49m \u001b[38;5;28;01mfor\u001b[39;00m argument_key \u001b[38;5;129;01min\u001b[39;00m \u001b[38;5;28msorted\u001b[39m(OPERATIONS[group_key][\u001b[38;5;124m'\u001b[39m\u001b[38;5;124marguments\u001b[39m\u001b[38;5;124m'\u001b[39m]\u001b[38;5;241m.\u001b[39mkeys()))\n\u001b[1;32m    822\u001b[0m \u001b[38;5;28;01mif\u001b[39;00m bm\u001b[38;5;241m.\u001b[39mget(\u001b[38;5;124m'\u001b[39m\u001b[38;5;124merror_occurred\u001b[39m\u001b[38;5;124m'\u001b[39m, \u001b[38;5;28;01mFalse\u001b[39;00m):\n\u001b[1;32m    823\u001b[0m     error_message \u001b[38;5;241m=\u001b[39m bm[\u001b[38;5;124m'\u001b[39m\u001b[38;5;124merror_message\u001b[39m\u001b[38;5;124m'\u001b[39m]\n",
      "\u001b[0;31mKeyError\u001b[0m: 'Grade'"
     ]
    }
   ],
   "source": [
    "input_path = path.join(path.abspath(getcwd()), 'build')  # Assuming that the working directory is '<path-to>/ga-benchmark' and input data is in '<path-to>/ga-benchmark/build' folder.\n",
    "data = read_data(folder=input_path, verbose=False)"
   ]
  },
  {
   "cell_type": "markdown",
   "metadata": {},
   "source": [
    "The `SOLUTIONS` variable gives fancy names to the compared solutions. You have to include your solution here if you have added it to `ga-benchmark`."
   ]
  },
  {
   "cell_type": "code",
   "execution_count": 5,
   "metadata": {
    "scrolled": true
   },
   "outputs": [],
   "source": [
    "SOLUTIONS = {\n",
    "    'Gaalet': {'description': 'Gaalet'},\n",
    "    'Gaalop': {'description': 'Gaalop'},\n",
    "    'Garamon': {'description': 'Garamon'},\n",
    "    'GATL': {'description': 'GATL'},\n",
    "    'GluCatFramedMulti': {'description': 'GluCat (framed)'},\n",
    "    'GluCatMatrixMulti': {'description': 'GluCat (matrix)'},\n",
    "    'TbGAL': {'description': 'TbGAL'},\n",
    "    'Versor': {'description': 'Versor'}\n",
    "}"
   ]
  },
  {
   "cell_type": "markdown",
   "metadata": {},
   "source": [
    "# Configuration"
   ]
  },
  {
   "cell_type": "markdown",
   "metadata": {},
   "source": [
    "The `make_configuration_gui` function creates the user interface to select the solutions, models of geometry, and operations used while computing tables and charts. All options are selected by default.\n",
    "\n",
    "The `filter_data` function filters `data`-like dictionaries using the options selected in the user interface."
   ]
  },
  {
   "cell_type": "code",
   "execution_count": 6,
   "metadata": {
    "scrolled": false
   },
   "outputs": [
    {
     "ename": "NameError",
     "evalue": "name 'data' is not defined",
     "output_type": "error",
     "traceback": [
      "\u001b[0;31m---------------------------------------------------------------------------\u001b[0m",
      "\u001b[0;31mNameError\u001b[0m                                 Traceback (most recent call last)",
      "Cell \u001b[0;32mIn[6], line 50\u001b[0m\n\u001b[1;32m     47\u001b[0m         checkboxes[context_key] \u001b[38;5;241m=\u001b[39m {\u001b[38;5;124m'\u001b[39m\u001b[38;5;124msolutions\u001b[39m\u001b[38;5;124m'\u001b[39m: solutions_checkboxes, \u001b[38;5;124m'\u001b[39m\u001b[38;5;124mmodels\u001b[39m\u001b[38;5;124m'\u001b[39m: models_checkboxes, \u001b[38;5;124m'\u001b[39m\u001b[38;5;124moperations\u001b[39m\u001b[38;5;124m'\u001b[39m: operations_checkboxes}\n\u001b[1;32m     48\u001b[0m     \u001b[38;5;28;01mreturn\u001b[39;00m checkboxes\n\u001b[0;32m---> 50\u001b[0m configuration_checkboxes \u001b[38;5;241m=\u001b[39m make_configuration_gui(\u001b[43mdata\u001b[49m)\n\u001b[1;32m     52\u001b[0m \u001b[38;5;28;01mdef\u001b[39;00m \u001b[38;5;21mfilter_data\u001b[39m(given_data: \u001b[38;5;28mdict\u001b[39m) \u001b[38;5;241m-\u001b[39m\u001b[38;5;241m>\u001b[39m \u001b[38;5;28mdict\u001b[39m:\n\u001b[1;32m     53\u001b[0m     filtered_data \u001b[38;5;241m=\u001b[39m \u001b[38;5;28mdict\u001b[39m()\n",
      "\u001b[0;31mNameError\u001b[0m: name 'data' is not defined"
     ]
    }
   ],
   "source": [
    "def make_configuration_gui(given_data: dict) -> dict:\n",
    "    given_solutions, given_models, given_operations = available_data(given_data)\n",
    "    checkboxes = dict()\n",
    "    for context_key, (context, _) in given_data.items():\n",
    "        context_tab_titles = list()\n",
    "        context_tab_children = list()\n",
    "        # Tab 1: Solutions\n",
    "        solutions_checkboxes = dict()\n",
    "        for solution_key in given_solutions[context_key]:\n",
    "            solutions_checkboxes[solution_key] = widgets.Checkbox(description=SOLUTIONS[solution_key]['description'], value=True, indent=False)\n",
    "        context_tab_titles.append('1. Solutions')\n",
    "        context_tab_children.append(widgets.VBox(children=[solution_checkbox for _, solution_checkbox in sorted(solutions_checkboxes.items())]))\n",
    "        # Tab 2: Models of Geometry\n",
    "        models_checkboxes = dict()\n",
    "        models_items = list()\n",
    "        for ind, (model_key, dimensions) in enumerate(given_models[context_key].items()):\n",
    "            model_checkboxes = list()\n",
    "            for d in sorted(dimensions):\n",
    "                d_checkbox = widgets.Checkbox(description='%d-D' % d, value=True, indent=False)\n",
    "                models_checkboxes.setdefault(model_key, dict())[d] = d_checkbox\n",
    "                model_checkboxes.append(d_checkbox)\n",
    "            models_items.append(widgets.Label(value=MODELS[model_key]['description']))\n",
    "            models_items.append(widgets.VBox(children=model_checkboxes))\n",
    "        context_tab_titles.append('2. Models')\n",
    "        context_tab_children.append(widgets.GridBox(models_items, layout=widgets.Layout(grid_template_columns='100px auto')))\n",
    "        # Tabs 3.*: Groups of Operations\n",
    "        operations_checkboxes = dict()\n",
    "        for group_ind, (group_key, subgroups) in enumerate(sorted(given_operations[context_key].items())):\n",
    "            group_items = list()\n",
    "            for subgroup_ind, (subgroup_key, operations) in enumerate(sorted(subgroups.items())):\n",
    "                subgroup_checkboxes = list()\n",
    "                for operation_key in sorted(operations):\n",
    "                    operation_checkbox = widgets.Checkbox(description=OPERATIONS[group_key]['subgroups'][subgroup_key]['operations'][operation_key]['description'], value=True, indent=False)\n",
    "                    operations_checkboxes.setdefault(group_key, dict()).setdefault(subgroup_key, dict())[operation_key] = operation_checkbox\n",
    "                    subgroup_checkboxes.append(operation_checkbox)\n",
    "                group_items.append(widgets.Label(value=OPERATIONS[group_key]['subgroups'][subgroup_key]['description']))\n",
    "                group_items.append(widgets.VBox(children=subgroup_checkboxes))\n",
    "            context_tab_titles.append('3.%d. %s' % (group_ind + 1, OPERATIONS[group_key]['description']))\n",
    "            context_tab_children.append(widgets.GridBox(group_items, layout=widgets.Layout(grid_template_columns='150px auto')))\n",
    "        # The context tab\n",
    "        context_tab = widgets.Tab()\n",
    "        context_tab.children = context_tab_children\n",
    "        for ind, title in enumerate(context_tab_titles):\n",
    "            context_tab.set_title(ind, title)\n",
    "        display(widgets.HTML(value='<p style=\"line-height: 1.5\"><b>Context:</b> %s</p>' % context_to_str(context)))\n",
    "        display(context_tab)\n",
    "        checkboxes[context_key] = {'solutions': solutions_checkboxes, 'models': models_checkboxes, 'operations': operations_checkboxes}\n",
    "    return checkboxes\n",
    "\n",
    "configuration_checkboxes = make_configuration_gui(data)\n",
    "\n",
    "def filter_data(given_data: dict) -> dict:\n",
    "    filtered_data = dict()\n",
    "    for context_key, (context, models) in data.items():\n",
    "        for model_key, dimensions in models.items():\n",
    "            for d, groups in dimensions.items():\n",
    "                if configuration_checkboxes[context_key]['models'][model_key][d].value:\n",
    "                    for group_key, subgroups in groups.items():\n",
    "                        for subgroup_key, operations in subgroups.items():\n",
    "                            for operation_key, solutions in operations.items():\n",
    "                                if configuration_checkboxes[context_key]['operations'][group_key][subgroup_key][operation_key].value:\n",
    "                                    for solution_key, cases in solutions.items():\n",
    "                                        if configuration_checkboxes[context_key]['solutions'][solution_key].value:\n",
    "                                            filtered_data.setdefault(context_key, (context, dict()))[1].setdefault(model_key, dict()).setdefault(d, dict()).setdefault(group_key, dict()).setdefault(subgroup_key, dict()).setdefault(operation_key, dict())[solution_key] = cases\n",
    "    return filtered_data"
   ]
  },
  {
   "cell_type": "markdown",
   "metadata": {},
   "source": [
    "## Results"
   ]
  },
  {
   "cell_type": "markdown",
   "metadata": {},
   "source": [
    "This section presents three types of results: the [table of features](#table_of_features), the [ranking](#ranking), and [performance charts](#performance_charts)."
   ]
  },
  {
   "cell_type": "markdown",
   "metadata": {
    "tags": [
     "table_of_features"
    ]
   },
   "source": [
    "### Table of Features"
   ]
  },
  {
   "cell_type": "markdown",
   "metadata": {},
   "source": [
    "The following table summarizes the models of geometry and the operations supported by the compared solution."
   ]
  },
  {
   "cell_type": "code",
   "execution_count": 7,
   "metadata": {
    "scrolled": false
   },
   "outputs": [
    {
     "data": {
      "application/vnd.jupyter.widget-view+json": {
       "model_id": "c0bd6838d53041eab0412052375a2def",
       "version_major": 2,
       "version_minor": 0
      },
      "text/plain": [
       "HTML(value='<!DOCTYPE html><html><head><style>.verticalTableHeader {text-align: center; line-height: 1.0; whit…"
      ]
     },
     "metadata": {},
     "output_type": "display_data"
    }
   ],
   "source": [
    "display(widgets.HTML(value=make_table_of_features(data=filter_data(data), solutions=SOLUTIONS), placeholder='Table of Features'))"
   ]
  },
  {
   "cell_type": "markdown",
   "metadata": {
    "tags": [
     "ranking"
    ]
   },
   "source": [
    "### Ranking"
   ]
  },
  {
   "cell_type": "markdown",
   "metadata": {},
   "source": [
    "The following tables classify the compared solutions using the gold first method, *i.e.,* based first on the number of gold medals, then silver, and so on. The medals are distributed among the solutions for testing cases implemented by all of them."
   ]
  },
  {
   "cell_type": "code",
   "execution_count": 8,
   "metadata": {},
   "outputs": [
    {
     "ename": "KeyError",
     "evalue": "'Gaalet'",
     "output_type": "error",
     "traceback": [
      "\u001b[0;31m---------------------------------------------------------------------------\u001b[0m",
      "\u001b[0;31mKeyError\u001b[0m                                  Traceback (most recent call last)",
      "Cell \u001b[0;32mIn[8], line 1\u001b[0m\n\u001b[0;32m----> 1\u001b[0m tables \u001b[38;5;241m=\u001b[39m \u001b[43mmake_ranking\u001b[49m\u001b[43m(\u001b[49m\u001b[43mdata\u001b[49m\u001b[38;5;241;43m=\u001b[39;49m\u001b[43mfilter_data\u001b[49m\u001b[43m(\u001b[49m\u001b[43mdata\u001b[49m\u001b[43m)\u001b[49m\u001b[43m,\u001b[49m\u001b[43m \u001b[49m\u001b[43msolutions\u001b[49m\u001b[38;5;241;43m=\u001b[39;49m\u001b[43mSOLUTIONS\u001b[49m\u001b[43m)\u001b[49m\n\u001b[1;32m      2\u001b[0m \u001b[38;5;28;01mfor\u001b[39;00m table \u001b[38;5;129;01min\u001b[39;00m tables:\n\u001b[1;32m      3\u001b[0m     display(widgets\u001b[38;5;241m.\u001b[39mHTML(value\u001b[38;5;241m=\u001b[39mtable, placeholder\u001b[38;5;241m=\u001b[39m\u001b[38;5;124m'\u001b[39m\u001b[38;5;124mRanking\u001b[39m\u001b[38;5;124m'\u001b[39m))\n",
      "File \u001b[0;32m~/coding/ga-benchmark/gabm.py:698\u001b[0m, in \u001b[0;36mmake_ranking\u001b[0;34m(data, solutions)\u001b[0m\n\u001b[1;32m    696\u001b[0m operations_keys \u001b[38;5;241m=\u001b[39m \u001b[38;5;28msorted\u001b[39m(\u001b[38;5;28mlist\u001b[39m({(subgroup_key, operation_key) \u001b[38;5;28;01mfor\u001b[39;00m solution_tables \u001b[38;5;129;01min\u001b[39;00m solutions_tables\u001b[38;5;241m.\u001b[39mvalues() \u001b[38;5;28;01mfor\u001b[39;00m subgroup_key, subgroup_tables \u001b[38;5;129;01min\u001b[39;00m solution_tables[group_key]\u001b[38;5;241m.\u001b[39mitems() \u001b[38;5;28;01mfor\u001b[39;00m operation_key \u001b[38;5;129;01min\u001b[39;00m subgroup_tables\u001b[38;5;241m.\u001b[39mkeys()}))\n\u001b[1;32m    697\u001b[0m \u001b[38;5;28;01mfor\u001b[39;00m subgroup_key, operation_key \u001b[38;5;129;01min\u001b[39;00m operations_keys:\n\u001b[0;32m--> 698\u001b[0m     time_tables \u001b[38;5;241m=\u001b[39m np\u001b[38;5;241m.\u001b[39masarray(\u001b[43m[\u001b[49m\u001b[43msolutions_tables\u001b[49m\u001b[43m[\u001b[49m\u001b[43msolution_key\u001b[49m\u001b[43m]\u001b[49m\u001b[38;5;241;43m.\u001b[39;49m\u001b[43mget\u001b[49m\u001b[43m(\u001b[49m\u001b[43mgroup_key\u001b[49m\u001b[43m,\u001b[49m\u001b[43m \u001b[49m\u001b[38;5;28;43mdict\u001b[39;49m\u001b[43m(\u001b[49m\u001b[43m)\u001b[49m\u001b[43m)\u001b[49m\u001b[38;5;241;43m.\u001b[39;49m\u001b[43mget\u001b[49m\u001b[43m(\u001b[49m\u001b[43msubgroup_key\u001b[49m\u001b[43m,\u001b[49m\u001b[43m \u001b[49m\u001b[38;5;28;43mdict\u001b[39;49m\u001b[43m(\u001b[49m\u001b[43m)\u001b[49m\u001b[43m)\u001b[49m\u001b[38;5;241;43m.\u001b[39;49m\u001b[43mget\u001b[49m\u001b[43m(\u001b[49m\u001b[43moperation_key\u001b[49m\u001b[43m,\u001b[49m\u001b[43m \u001b[49m\u001b[43mmissing_subgroups_tables\u001b[49m\u001b[43m[\u001b[49m\u001b[43msubgroup_key\u001b[49m\u001b[43m]\u001b[49m\u001b[43m[\u001b[49m\u001b[43moperation_key\u001b[49m\u001b[43m]\u001b[49m\u001b[43m)\u001b[49m\u001b[43m[\u001b[49m\u001b[43mstatistics_key\u001b[49m\u001b[43m]\u001b[49m\u001b[43m \u001b[49m\u001b[38;5;28;43;01mfor\u001b[39;49;00m\u001b[43m \u001b[49m\u001b[43msolution_key\u001b[49m\u001b[43m \u001b[49m\u001b[38;5;129;43;01min\u001b[39;49;00m\u001b[43m \u001b[49m\u001b[43mgiven_solutions_keys\u001b[49m\u001b[43m]\u001b[49m)\n\u001b[1;32m    699\u001b[0m     times \u001b[38;5;241m=\u001b[39m time_tables[\u001b[38;5;241m.\u001b[39m\u001b[38;5;241m.\u001b[39m\u001b[38;5;241m.\u001b[39m, \u001b[38;5;241m~\u001b[39mnp\u001b[38;5;241m.\u001b[39many(np\u001b[38;5;241m.\u001b[39misin(time_tables, NOT_IMPLEMENTED_LIST), axis\u001b[38;5;241m=\u001b[39m\u001b[38;5;241m0\u001b[39m)]\n\u001b[1;32m    700\u001b[0m     \u001b[38;5;28;01mfor\u001b[39;00m case_ind \u001b[38;5;129;01min\u001b[39;00m \u001b[38;5;28mrange\u001b[39m(times\u001b[38;5;241m.\u001b[39mshape[\u001b[38;5;241m1\u001b[39m]):\n",
      "File \u001b[0;32m~/coding/ga-benchmark/gabm.py:698\u001b[0m, in \u001b[0;36m<listcomp>\u001b[0;34m(.0)\u001b[0m\n\u001b[1;32m    696\u001b[0m operations_keys \u001b[38;5;241m=\u001b[39m \u001b[38;5;28msorted\u001b[39m(\u001b[38;5;28mlist\u001b[39m({(subgroup_key, operation_key) \u001b[38;5;28;01mfor\u001b[39;00m solution_tables \u001b[38;5;129;01min\u001b[39;00m solutions_tables\u001b[38;5;241m.\u001b[39mvalues() \u001b[38;5;28;01mfor\u001b[39;00m subgroup_key, subgroup_tables \u001b[38;5;129;01min\u001b[39;00m solution_tables[group_key]\u001b[38;5;241m.\u001b[39mitems() \u001b[38;5;28;01mfor\u001b[39;00m operation_key \u001b[38;5;129;01min\u001b[39;00m subgroup_tables\u001b[38;5;241m.\u001b[39mkeys()}))\n\u001b[1;32m    697\u001b[0m \u001b[38;5;28;01mfor\u001b[39;00m subgroup_key, operation_key \u001b[38;5;129;01min\u001b[39;00m operations_keys:\n\u001b[0;32m--> 698\u001b[0m     time_tables \u001b[38;5;241m=\u001b[39m np\u001b[38;5;241m.\u001b[39masarray([\u001b[43msolutions_tables\u001b[49m\u001b[43m[\u001b[49m\u001b[43msolution_key\u001b[49m\u001b[43m]\u001b[49m\u001b[38;5;241m.\u001b[39mget(group_key, \u001b[38;5;28mdict\u001b[39m())\u001b[38;5;241m.\u001b[39mget(subgroup_key, \u001b[38;5;28mdict\u001b[39m())\u001b[38;5;241m.\u001b[39mget(operation_key, missing_subgroups_tables[subgroup_key][operation_key])[statistics_key] \u001b[38;5;28;01mfor\u001b[39;00m solution_key \u001b[38;5;129;01min\u001b[39;00m given_solutions_keys])\n\u001b[1;32m    699\u001b[0m     times \u001b[38;5;241m=\u001b[39m time_tables[\u001b[38;5;241m.\u001b[39m\u001b[38;5;241m.\u001b[39m\u001b[38;5;241m.\u001b[39m, \u001b[38;5;241m~\u001b[39mnp\u001b[38;5;241m.\u001b[39many(np\u001b[38;5;241m.\u001b[39misin(time_tables, NOT_IMPLEMENTED_LIST), axis\u001b[38;5;241m=\u001b[39m\u001b[38;5;241m0\u001b[39m)]\n\u001b[1;32m    700\u001b[0m     \u001b[38;5;28;01mfor\u001b[39;00m case_ind \u001b[38;5;129;01min\u001b[39;00m \u001b[38;5;28mrange\u001b[39m(times\u001b[38;5;241m.\u001b[39mshape[\u001b[38;5;241m1\u001b[39m]):\n",
      "\u001b[0;31mKeyError\u001b[0m: 'Gaalet'"
     ]
    }
   ],
   "source": [
    "tables = make_ranking(data=filter_data(data), solutions=SOLUTIONS)\n",
    "for table in tables:\n",
    "    display(widgets.HTML(value=table, placeholder='Ranking'))"
   ]
  },
  {
   "cell_type": "markdown",
   "metadata": {
    "tags": [
     "performance_charts"
    ]
   },
   "source": [
    "### Performance Charts"
   ]
  },
  {
   "cell_type": "markdown",
   "metadata": {},
   "source": [
    "The following charts summarize the performance of the compared solution. Set the `result_path` variable to change the directory where the chart files will be written."
   ]
  },
  {
   "cell_type": "code",
   "execution_count": null,
   "metadata": {
    "scrolled": false
   },
   "outputs": [
    {
     "name": "stderr",
     "output_type": "stream",
     "text": [
      "Drawing performance charts:   0%|                                                                                                                     | 0/546 [00:00<?, ?it/s]/usr/lib/python3.11/site-packages/matplotlib/colors.py:1355: RuntimeWarning: overflow encountered in divide\n",
      "  resdat /= (vmax - vmin)\n",
      "/usr/lib/python3.11/site-packages/matplotlib/colors.py:718: RuntimeWarning: overflow encountered in multiply\n",
      "  xa *= self.N\n",
      "Drawing performance charts:  55%|███████████████████████████████████████████████████████████▏                                               | 302/546 [00:34<00:28,  8.66it/s]"
     ]
    }
   ],
   "source": [
    "result_path = path.join(path.abspath(getcwd()), 'results')  # Assuming that the working directory is '<path-to>/ga-benchmark'.\n",
    "tables = make_performance_charts(data=filter_data(data), solutions=SOLUTIONS, folder=result_path)\n",
    "for table in tables:\n",
    "    display(widgets.HTML(value=table, placeholder='Performance Chart'))"
   ]
  },
  {
   "cell_type": "code",
   "execution_count": null,
   "metadata": {},
   "outputs": [],
   "source": []
  }
 ],
 "metadata": {
  "kernelspec": {
   "display_name": "Python 3 (ipykernel)",
   "language": "python",
   "name": "python3"
  },
  "language_info": {
   "codemirror_mode": {
    "name": "ipython",
    "version": 3
   },
   "file_extension": ".py",
   "mimetype": "text/x-python",
   "name": "python",
   "nbconvert_exporter": "python",
   "pygments_lexer": "ipython3",
   "version": "3.11.3"
  }
 },
 "nbformat": 4,
 "nbformat_minor": 2
}
